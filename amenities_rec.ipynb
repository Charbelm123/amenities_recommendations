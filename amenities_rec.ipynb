{
 "cells": [
  {
   "cell_type": "code",
   "execution_count": 1,
   "metadata": {},
   "outputs": [],
   "source": [
    "from elasticsearch import  Elasticsearch"
   ]
  },
  {
   "cell_type": "code",
   "execution_count": 2,
   "metadata": {},
   "outputs": [
    {
     "name": "stdout",
     "output_type": "stream",
     "text": [
      "{'name': 'quickstart-es-default-0', 'cluster_name': 'quickstart', 'cluster_uuid': '2nnOvh7USDO7LHKmWliVIg', 'version': {'number': '8.14.3', 'build_flavor': 'default', 'build_type': 'docker', 'build_hash': 'd55f984299e0e88dee72ebd8255f7ff130859ad0', 'build_date': '2024-07-07T22:04:49.882652950Z', 'build_snapshot': False, 'lucene_version': '9.10.0', 'minimum_wire_compatibility_version': '7.17.0', 'minimum_index_compatibility_version': '7.0.0'}, 'tagline': 'You Know, for Search'}\n",
      "True\n"
     ]
    },
    {
     "name": "stderr",
     "output_type": "stream",
     "text": [
      "d:\\amenities recommendations\\.venv\\lib\\site-packages\\elasticsearch\\_sync\\client\\__init__.py:400: SecurityWarning: Connecting to 'https://192.168.88.16:31419' using TLS with verify_certs=False is insecure\n",
      "  _transport = transport_class(\n",
      "d:\\amenities recommendations\\.venv\\lib\\site-packages\\urllib3\\connectionpool.py:1099: InsecureRequestWarning: Unverified HTTPS request is being made to host '192.168.88.16'. Adding certificate verification is strongly advised. See: https://urllib3.readthedocs.io/en/latest/advanced-usage.html#tls-warnings\n",
      "  warnings.warn(\n",
      "d:\\amenities recommendations\\.venv\\lib\\site-packages\\urllib3\\connectionpool.py:1099: InsecureRequestWarning: Unverified HTTPS request is being made to host '192.168.88.16'. Adding certificate verification is strongly advised. See: https://urllib3.readthedocs.io/en/latest/advanced-usage.html#tls-warnings\n",
      "  warnings.warn(\n"
     ]
    }
   ],
   "source": [
    "#connect to elastic search\n",
    "es_host = 'https://192.168.88.16:31419'\n",
    "api_key = 'your api key'\n",
    "client = Elasticsearch(es_host, verify_certs=False,api_key=api_key)\n",
    "print(client.info())\n",
    "print(client.ping())"
   ]
  },
  {
   "cell_type": "code",
   "execution_count": 3,
   "metadata": {},
   "outputs": [
    {
     "name": "stdout",
     "output_type": "stream",
     "text": [
      "<class 'pandas.core.frame.DataFrame'>\n",
      "RangeIndex: 22 entries, 0 to 21\n",
      "Data columns (total 5 columns):\n",
      " #   Column       Non-Null Count  Dtype \n",
      "---  ------       --------------  ----- \n",
      " 0   idAmenity    22 non-null     int64 \n",
      " 1   description  22 non-null     object\n",
      " 2   nameAmenity  22 non-null     object\n",
      " 3   categories   22 non-null     object\n",
      " 4   price        22 non-null     object\n",
      "dtypes: int64(1), object(4)\n",
      "memory usage: 1008.0+ bytes\n"
     ]
    }
   ],
   "source": [
    "#load amenities from the json file\n",
    "import pandas as pd\n",
    "\n",
    "amenities = pd.read_json('amenities.json')\n",
    "amenities.head()\n",
    "amenities.info()    "
   ]
  },
  {
   "cell_type": "code",
   "execution_count": 4,
   "metadata": {},
   "outputs": [
    {
     "name": "stderr",
     "output_type": "stream",
     "text": [
      "d:\\amenities recommendations\\.venv\\lib\\site-packages\\sentence_transformers\\cross_encoder\\CrossEncoder.py:13: TqdmWarning: IProgress not found. Please update jupyter and ipywidgets. See https://ipywidgets.readthedocs.io/en/stable/user_install.html\n",
      "  from tqdm.autonotebook import tqdm, trange\n"
     ]
    },
    {
     "name": "stdout",
     "output_type": "stream",
     "text": [
      "WARNING:tensorflow:From d:\\amenities recommendations\\.venv\\lib\\site-packages\\tf_keras\\src\\losses.py:2976: The name tf.losses.sparse_softmax_cross_entropy is deprecated. Please use tf.compat.v1.losses.sparse_softmax_cross_entropy instead.\n",
      "\n"
     ]
    },
    {
     "name": "stderr",
     "output_type": "stream",
     "text": [
      "d:\\amenities recommendations\\.venv\\lib\\site-packages\\huggingface_hub\\file_download.py:139: UserWarning: `huggingface_hub` cache-system uses symlinks by default to efficiently store duplicated files but your machine does not support them in C:\\Users\\CharbelMazloum\\.cache\\huggingface\\hub\\models--sentence-transformers--all-mpnet-base-v2. Caching files will still work but in a degraded version that might require more space on your disk. This warning can be disabled by setting the `HF_HUB_DISABLE_SYMLINKS_WARNING` environment variable. For more details, see https://huggingface.co/docs/huggingface_hub/how-to-cache#limitations.\n",
      "To support symlinks on Windows, you either need to activate Developer Mode or to run Python as an administrator. In order to activate developer mode, see this article: https://docs.microsoft.com/en-us/windows/apps/get-started/enable-your-device-for-development\n",
      "  warnings.warn(message)\n"
     ]
    }
   ],
   "source": [
    "#import the sentence transformer model to encode the amenities(embeddings)\n",
    "from sentence_transformers import SentenceTransformer\n",
    "model = SentenceTransformer('all-mpnet-base-v2')"
   ]
  },
  {
   "cell_type": "code",
   "execution_count": 5,
   "metadata": {},
   "outputs": [
    {
     "name": "stdout",
     "output_type": "stream",
     "text": [
      "Index(['idAmenity', 'description', 'nameAmenity', 'categories', 'price',\n",
      "       'description_embeddings', 'nameAmenity_embeddings',\n",
      "       'categories_embeddings', 'price_embeddings'],\n",
      "      dtype='object')\n",
      "   idAmenity                                        description  \\\n",
      "0          1  An easy-to-use bedside alarm clock with large,...   \n",
      "1          2  A comprehensive cleaning service for your stud...   \n",
      "2          3  A thorough cleaning of the suite designed to m...   \n",
      "3          4  A convenient scooter rental service that allow...   \n",
      "4          5  High-speed WiFi connectivity available through...   \n",
      "\n",
      "       nameAmenity                             categories    price  \\\n",
      "0      Alarm Clock            Room Amenities, Convenience  No fees   \n",
      "1  Cleaning Studio    Cleaning Services, Room Maintenance   10 USD   \n",
      "2   Cleaning Suite    Cleaning Services, Room Maintenance   50 USD   \n",
      "3   Scooter Rental     Transportation, Leisure Activities  100 USD   \n",
      "4             WiFi  Internet Services, Business Amenities  120 USD   \n",
      "\n",
      "                              description_embeddings  \\\n",
      "0  [-0.01828858, -0.034504842, 0.007546352, 0.002...   \n",
      "1  [0.015695293, -0.049990885, -0.02189554, -0.03...   \n",
      "2  [0.024997726, -0.028196927, -0.029101752, 0.02...   \n",
      "3  [0.011401465, -0.059038706, 0.020837266, -0.00...   \n",
      "4  [-0.057964865, -0.056849886, 0.008456206, -0.0...   \n",
      "\n",
      "                              nameAmenity_embeddings  \\\n",
      "0  [-0.0059660226, -0.034074824, 0.00079065753, 0...   \n",
      "1  [0.003405499, 0.06107321, -0.010710688, -0.031...   \n",
      "2  [0.017209608, 0.038913578, -0.017537087, -0.04...   \n",
      "3  [0.0085756695, -0.016319936, 0.049534276, -0.0...   \n",
      "4  [-0.03825916, -0.041479643, -0.010753697, -0.0...   \n",
      "\n",
      "                               categories_embeddings  \\\n",
      "0  [-0.0004019476, -0.03026508, -0.009914936, 0.0...   \n",
      "1  [0.017410401, -0.009584398, -0.011667989, -0.0...   \n",
      "2  [0.017410401, -0.009584398, -0.011667989, -0.0...   \n",
      "3  [-0.019175066, 0.022899551, -0.019330561, 0.03...   \n",
      "4  [-0.006089897, -0.0008921338, -0.015099305, 0....   \n",
      "\n",
      "                                    price_embeddings  \n",
      "0  [-0.04583162, 0.052340616, 0.008070617, -0.008...  \n",
      "1  [-0.009231796, -0.019298028, -0.0024724717, 0....  \n",
      "2  [-0.022127666, -0.051159848, 0.01581311, 0.035...  \n",
      "3  [-0.026589535, -0.03704068, 0.004618544, 0.015...  \n",
      "4  [-0.043237682, -0.022333872, 0.022181844, 0.04...  \n"
     ]
    }
   ],
   "source": [
    "amenities['description_embeddings'] = amenities['description'].apply(lambda x: model.encode(x))\n",
    "amenities['nameAmenity_embeddings'] = amenities['nameAmenity'].apply(lambda x: model.encode(x))\n",
    "amenities['categories_embeddings'] = amenities['categories'].apply(lambda x: model.encode(x))\n",
    "amenities['price_embeddings'] = amenities['price'].apply(lambda x: model.encode(x))\n",
    "print(amenities.columns)\n",
    "print(amenities.head())"
   ]
  },
  {
   "cell_type": "code",
   "execution_count": 7,
   "metadata": {},
   "outputs": [],
   "source": [
    "\n",
    "indexMapping ={\n",
    "    \"properties\":{\n",
    "        \"idAmenity\":{\"type\":\"long\"},\n",
    "        \"nameAmenity\": {\"type\":\"text\"},\n",
    "        \"description\": {\"type\":\"text\"},\n",
    "        \"categories\": {\"type\":\"text\"},\n",
    "        \"price\": {\"type\":\"text\"},\n",
    "        \"description_embeddings\": {\"type\":\"dense_vector\",\"dims\":768, \"index\":True, \"similarity\":\"cosine\"},\n",
    "        \"nameAmenity_embeddings\": {\"type\":\"dense_vector\",\"dims\":768, \"index\":True, \"similarity\":\"cosine\"},\n",
    "        \"categories_embeddings\": {\"type\":\"dense_vector\",\"dims\":768, \"index\":True, \"similarity\":\"cosine\"},\n",
    "        \"price_embeddings\": {\"type\":\"dense_vector\",\"dims\":768, \"index\":True, \"similarity\":\"cosine\"}\n",
    "    }\n",
    "}"
   ]
  },
  {
   "cell_type": "code",
   "execution_count": 8,
   "metadata": {},
   "outputs": [
    {
     "name": "stderr",
     "output_type": "stream",
     "text": [
      "d:\\amenities recommendations\\.venv\\lib\\site-packages\\urllib3\\connectionpool.py:1099: InsecureRequestWarning: Unverified HTTPS request is being made to host '192.168.88.16'. Adding certificate verification is strongly advised. See: https://urllib3.readthedocs.io/en/latest/advanced-usage.html#tls-warnings\n",
      "  warnings.warn(\n",
      "d:\\amenities recommendations\\.venv\\lib\\site-packages\\urllib3\\connectionpool.py:1099: InsecureRequestWarning: Unverified HTTPS request is being made to host '192.168.88.16'. Adding certificate verification is strongly advised. See: https://urllib3.readthedocs.io/en/latest/advanced-usage.html#tls-warnings\n",
      "  warnings.warn(\n",
      "d:\\amenities recommendations\\.venv\\lib\\site-packages\\urllib3\\connectionpool.py:1099: InsecureRequestWarning: Unverified HTTPS request is being made to host '192.168.88.16'. Adding certificate verification is strongly advised. See: https://urllib3.readthedocs.io/en/latest/advanced-usage.html#tls-warnings\n",
      "  warnings.warn(\n"
     ]
    },
    {
     "data": {
      "text/plain": [
       "ApiResponseMeta(status=200, http_version='1.1', headers={'X-elastic-product': 'Elasticsearch', 'content-type': 'application/vnd.elasticsearch+json;compatible-with=8', 'Transfer-Encoding': 'chunked'}, duration=0.0028972625732421875, node=NodeConfig(scheme='https', host='192.168.88.16', port=31419, path_prefix='', headers={'user-agent': 'elasticsearch-py/8.15.1 (Python/3.10.9; elastic-transport/8.15.1)'}, connections_per_node=10, request_timeout=10.0, http_compress=False, verify_certs=False, ca_certs=None, client_cert=None, client_key=None, ssl_assert_hostname=None, ssl_assert_fingerprint=None, ssl_version=None, ssl_context=None, ssl_show_warn=True, _extras={}))"
      ]
     },
     "execution_count": 8,
     "metadata": {},
     "output_type": "execute_result"
    }
   ],
   "source": [
    "\n",
    "record_list = amenities.to_dict(orient='records')\n",
    "#if exsists delete the index\n",
    "if client.indices.exists(index='amenities_data'):\n",
    "    client.indices.delete(index='amenities_data')\n",
    "#create index in es\n",
    "client.indices.create(index='amenities_data', mappings=indexMapping)\n",
    "client.indices.get(index='amenities_data').meta"
   ]
  },
  {
   "cell_type": "code",
   "execution_count": 10,
   "metadata": {},
   "outputs": [
    {
     "name": "stderr",
     "output_type": "stream",
     "text": [
      "d:\\amenities recommendations\\.venv\\lib\\site-packages\\urllib3\\connectionpool.py:1099: InsecureRequestWarning: Unverified HTTPS request is being made to host '192.168.88.16'. Adding certificate verification is strongly advised. See: https://urllib3.readthedocs.io/en/latest/advanced-usage.html#tls-warnings\n",
      "  warnings.warn(\n",
      "d:\\amenities recommendations\\.venv\\lib\\site-packages\\urllib3\\connectionpool.py:1099: InsecureRequestWarning: Unverified HTTPS request is being made to host '192.168.88.16'. Adding certificate verification is strongly advised. See: https://urllib3.readthedocs.io/en/latest/advanced-usage.html#tls-warnings\n",
      "  warnings.warn(\n",
      "d:\\amenities recommendations\\.venv\\lib\\site-packages\\urllib3\\connectionpool.py:1099: InsecureRequestWarning: Unverified HTTPS request is being made to host '192.168.88.16'. Adding certificate verification is strongly advised. See: https://urllib3.readthedocs.io/en/latest/advanced-usage.html#tls-warnings\n",
      "  warnings.warn(\n",
      "d:\\amenities recommendations\\.venv\\lib\\site-packages\\urllib3\\connectionpool.py:1099: InsecureRequestWarning: Unverified HTTPS request is being made to host '192.168.88.16'. Adding certificate verification is strongly advised. See: https://urllib3.readthedocs.io/en/latest/advanced-usage.html#tls-warnings\n",
      "  warnings.warn(\n",
      "d:\\amenities recommendations\\.venv\\lib\\site-packages\\urllib3\\connectionpool.py:1099: InsecureRequestWarning: Unverified HTTPS request is being made to host '192.168.88.16'. Adding certificate verification is strongly advised. See: https://urllib3.readthedocs.io/en/latest/advanced-usage.html#tls-warnings\n",
      "  warnings.warn(\n",
      "d:\\amenities recommendations\\.venv\\lib\\site-packages\\urllib3\\connectionpool.py:1099: InsecureRequestWarning: Unverified HTTPS request is being made to host '192.168.88.16'. Adding certificate verification is strongly advised. See: https://urllib3.readthedocs.io/en/latest/advanced-usage.html#tls-warnings\n",
      "  warnings.warn(\n",
      "d:\\amenities recommendations\\.venv\\lib\\site-packages\\urllib3\\connectionpool.py:1099: InsecureRequestWarning: Unverified HTTPS request is being made to host '192.168.88.16'. Adding certificate verification is strongly advised. See: https://urllib3.readthedocs.io/en/latest/advanced-usage.html#tls-warnings\n",
      "  warnings.warn(\n",
      "d:\\amenities recommendations\\.venv\\lib\\site-packages\\urllib3\\connectionpool.py:1099: InsecureRequestWarning: Unverified HTTPS request is being made to host '192.168.88.16'. Adding certificate verification is strongly advised. See: https://urllib3.readthedocs.io/en/latest/advanced-usage.html#tls-warnings\n",
      "  warnings.warn(\n",
      "d:\\amenities recommendations\\.venv\\lib\\site-packages\\urllib3\\connectionpool.py:1099: InsecureRequestWarning: Unverified HTTPS request is being made to host '192.168.88.16'. Adding certificate verification is strongly advised. See: https://urllib3.readthedocs.io/en/latest/advanced-usage.html#tls-warnings\n",
      "  warnings.warn(\n",
      "d:\\amenities recommendations\\.venv\\lib\\site-packages\\urllib3\\connectionpool.py:1099: InsecureRequestWarning: Unverified HTTPS request is being made to host '192.168.88.16'. Adding certificate verification is strongly advised. See: https://urllib3.readthedocs.io/en/latest/advanced-usage.html#tls-warnings\n",
      "  warnings.warn(\n",
      "d:\\amenities recommendations\\.venv\\lib\\site-packages\\urllib3\\connectionpool.py:1099: InsecureRequestWarning: Unverified HTTPS request is being made to host '192.168.88.16'. Adding certificate verification is strongly advised. See: https://urllib3.readthedocs.io/en/latest/advanced-usage.html#tls-warnings\n",
      "  warnings.warn(\n",
      "d:\\amenities recommendations\\.venv\\lib\\site-packages\\urllib3\\connectionpool.py:1099: InsecureRequestWarning: Unverified HTTPS request is being made to host '192.168.88.16'. Adding certificate verification is strongly advised. See: https://urllib3.readthedocs.io/en/latest/advanced-usage.html#tls-warnings\n",
      "  warnings.warn(\n",
      "d:\\amenities recommendations\\.venv\\lib\\site-packages\\urllib3\\connectionpool.py:1099: InsecureRequestWarning: Unverified HTTPS request is being made to host '192.168.88.16'. Adding certificate verification is strongly advised. See: https://urllib3.readthedocs.io/en/latest/advanced-usage.html#tls-warnings\n",
      "  warnings.warn(\n",
      "d:\\amenities recommendations\\.venv\\lib\\site-packages\\urllib3\\connectionpool.py:1099: InsecureRequestWarning: Unverified HTTPS request is being made to host '192.168.88.16'. Adding certificate verification is strongly advised. See: https://urllib3.readthedocs.io/en/latest/advanced-usage.html#tls-warnings\n",
      "  warnings.warn(\n",
      "d:\\amenities recommendations\\.venv\\lib\\site-packages\\urllib3\\connectionpool.py:1099: InsecureRequestWarning: Unverified HTTPS request is being made to host '192.168.88.16'. Adding certificate verification is strongly advised. See: https://urllib3.readthedocs.io/en/latest/advanced-usage.html#tls-warnings\n",
      "  warnings.warn(\n",
      "d:\\amenities recommendations\\.venv\\lib\\site-packages\\urllib3\\connectionpool.py:1099: InsecureRequestWarning: Unverified HTTPS request is being made to host '192.168.88.16'. Adding certificate verification is strongly advised. See: https://urllib3.readthedocs.io/en/latest/advanced-usage.html#tls-warnings\n",
      "  warnings.warn(\n",
      "d:\\amenities recommendations\\.venv\\lib\\site-packages\\urllib3\\connectionpool.py:1099: InsecureRequestWarning: Unverified HTTPS request is being made to host '192.168.88.16'. Adding certificate verification is strongly advised. See: https://urllib3.readthedocs.io/en/latest/advanced-usage.html#tls-warnings\n",
      "  warnings.warn(\n",
      "d:\\amenities recommendations\\.venv\\lib\\site-packages\\urllib3\\connectionpool.py:1099: InsecureRequestWarning: Unverified HTTPS request is being made to host '192.168.88.16'. Adding certificate verification is strongly advised. See: https://urllib3.readthedocs.io/en/latest/advanced-usage.html#tls-warnings\n",
      "  warnings.warn(\n",
      "d:\\amenities recommendations\\.venv\\lib\\site-packages\\urllib3\\connectionpool.py:1099: InsecureRequestWarning: Unverified HTTPS request is being made to host '192.168.88.16'. Adding certificate verification is strongly advised. See: https://urllib3.readthedocs.io/en/latest/advanced-usage.html#tls-warnings\n",
      "  warnings.warn(\n",
      "d:\\amenities recommendations\\.venv\\lib\\site-packages\\urllib3\\connectionpool.py:1099: InsecureRequestWarning: Unverified HTTPS request is being made to host '192.168.88.16'. Adding certificate verification is strongly advised. See: https://urllib3.readthedocs.io/en/latest/advanced-usage.html#tls-warnings\n",
      "  warnings.warn(\n",
      "d:\\amenities recommendations\\.venv\\lib\\site-packages\\urllib3\\connectionpool.py:1099: InsecureRequestWarning: Unverified HTTPS request is being made to host '192.168.88.16'. Adding certificate verification is strongly advised. See: https://urllib3.readthedocs.io/en/latest/advanced-usage.html#tls-warnings\n",
      "  warnings.warn(\n",
      "d:\\amenities recommendations\\.venv\\lib\\site-packages\\urllib3\\connectionpool.py:1099: InsecureRequestWarning: Unverified HTTPS request is being made to host '192.168.88.16'. Adding certificate verification is strongly advised. See: https://urllib3.readthedocs.io/en/latest/advanced-usage.html#tls-warnings\n",
      "  warnings.warn(\n"
     ]
    }
   ],
   "source": [
    "#index the data in elastic search\n",
    "for record in record_list:\n",
    "    try:\n",
    "        client.index(index='amenities_data', document=record ,id=record['idAmenity'])\n",
    "    except Exception as e:\n",
    "        print(str(e))"
   ]
  },
  {
   "cell_type": "code",
   "execution_count": 9,
   "metadata": {},
   "outputs": [
    {
     "name": "stderr",
     "output_type": "stream",
     "text": [
      "d:\\amenities recommendations\\.venv\\lib\\site-packages\\urllib3\\connectionpool.py:1099: InsecureRequestWarning: Unverified HTTPS request is being made to host '192.168.88.16'. Adding certificate verification is strongly advised. See: https://urllib3.readthedocs.io/en/latest/advanced-usage.html#tls-warnings\n",
      "  warnings.warn(\n"
     ]
    },
    {
     "data": {
      "text/plain": [
       "0"
      ]
     },
     "execution_count": 9,
     "metadata": {},
     "output_type": "execute_result"
    }
   ],
   "source": [
    "client.count(index='amenities_data')['count']"
   ]
  },
  {
   "cell_type": "code",
   "execution_count": null,
   "metadata": {},
   "outputs": [
    {
     "name": "stdout",
     "output_type": "stream",
     "text": [
      "world\n"
     ]
    }
   ],
   "source": [
    "from spellchecker import SpellChecker\n",
    "\n",
    "spell_checker = SpellChecker()\n",
    "correction = spell_checker.correction(' worlld')\n",
    "# print(correction)"
   ]
  },
  {
   "cell_type": "code",
   "execution_count": null,
   "metadata": {},
   "outputs": [
    {
     "name": "stdout",
     "output_type": "stream",
     "text": [
      "buger  king  resturant  burger king restaurant \n",
      "Breakfast Buffet\n",
      "Private Chef Service\n",
      "Room Service\n",
      "Luxury Car Rental\n",
      "Cleaning Suite\n"
     ]
    },
    {
     "name": "stderr",
     "output_type": "stream",
     "text": [
      "d:\\amenities recommendations\\.venv\\lib\\site-packages\\urllib3\\connectionpool.py:1099: InsecureRequestWarning: Unverified HTTPS request is being made to host '192.168.88.16'. Adding certificate verification is strongly advised. See: https://urllib3.readthedocs.io/en/latest/advanced-usage.html#tls-warnings\n",
      "  warnings.warn(\n",
      "C:\\Users\\CharbelMazloum\\AppData\\Local\\Temp\\ipykernel_1096\\742046430.py:22: ElasticsearchWarning: The kNN search API has been replaced by the `knn` option in the search API.\n",
      "  results = client.knn_search(index='amenities_data', knn=query, source=['nameAmenity'])\n"
     ]
    }
   ],
   "source": [
    "# client Side impl.\n",
    "\n",
    "\n",
    "arrayInput =['buger ', 'king ', 'resturant ']\n",
    "concatArrayInput = ' '.join(arrayInput)\n",
    "correted_input = concatArrayInput + ' '\n",
    "for word in correted_input.split():\n",
    "    correction = spell_checker.correction(word)\n",
    "    correted_input += correction + ' '\n",
    "print(correted_input)\n",
    "\n",
    "vectorized_input = model.encode(correted_input)\n",
    "\n",
    "query = {\n",
    "    'field':'nameAmenity_embeddings',\n",
    "    'query_vector': vectorized_input,\n",
    "    'k':5,\n",
    "    'num_candidates':22\n",
    "\n",
    "\n",
    "}\n",
    "results = client.knn_search(index='amenities_data', knn=query, source=['nameAmenity'])\n",
    "results = results._body['hits']['hits']\n",
    "for res in results:\n",
    "    print(res['_source']['nameAmenity'])\n",
    "0"
   ]
  },
  {
   "cell_type": "code",
   "execution_count": null,
   "metadata": {},
   "outputs": [],
   "source": []
  }
 ],
 "metadata": {
  "kernelspec": {
   "display_name": ".venv",
   "language": "python",
   "name": "python3"
  },
  "language_info": {
   "codemirror_mode": {
    "name": "ipython",
    "version": 3
   },
   "file_extension": ".py",
   "mimetype": "text/x-python",
   "name": "python",
   "nbconvert_exporter": "python",
   "pygments_lexer": "ipython3",
   "version": "3.10.9"
  }
 },
 "nbformat": 4,
 "nbformat_minor": 2
}
