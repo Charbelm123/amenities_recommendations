{
 "cells": [
  {
   "cell_type": "code",
   "execution_count": 2,
   "metadata": {},
   "outputs": [],
   "source": [
    "import weaviate"
   ]
  },
  {
   "cell_type": "code",
   "execution_count": 60,
   "metadata": {},
   "outputs": [
    {
     "name": "stdout",
     "output_type": "stream",
     "text": [
      "True\n"
     ]
    }
   ],
   "source": [
    "client = weaviate.connect_to_local()\n",
    "print(client.is_connected())"
   ]
  },
  {
   "cell_type": "code",
   "execution_count": 65,
   "metadata": {},
   "outputs": [
    {
     "data": {
      "text/plain": [
       "{}"
      ]
     },
     "execution_count": 65,
     "metadata": {},
     "output_type": "execute_result"
    }
   ],
   "source": [
    "client.collections.delete_all()\n",
    "client.collections.list_all()"
   ]
  },
  {
   "cell_type": "code",
   "execution_count": 66,
   "metadata": {},
   "outputs": [
    {
     "name": "stdout",
     "output_type": "stream",
     "text": [
      "idAmenity       int64\n",
      "description    object\n",
      "nameAmenity    object\n",
      "categories     object\n",
      "price          object\n",
      "dtype: object\n"
     ]
    }
   ],
   "source": [
    "import pandas as pd\n",
    "amenities  = pd.read_json(\"amenities.json\")\n",
    "print(amenities.dtypes)\n",
    "amenities =  amenities.to_dict(orient = 'records')\n"
   ]
  },
  {
   "cell_type": "code",
   "execution_count": 67,
   "metadata": {},
   "outputs": [
    {
     "data": {
      "text/plain": [
       "<weaviate.collections.collection.sync.Collection at 0x27fd18bfa30>"
      ]
     },
     "execution_count": 67,
     "metadata": {},
     "output_type": "execute_result"
    }
   ],
   "source": [
    "from weaviate.classes.config import Property, DataType, Configure\n",
    "from weaviate.util import get_valid_uuid\n",
    "\n",
    "\n",
    "client.collections.create(\n",
    "    name = 'amenities_collection',\n",
    "    description='this collection stores amenities information like description, name, price, and category',\n",
    "    vectorizer_config = Configure.Vectorizer.text2vec_ollama(model=\"llama3.2:latest\", api_endpoint=\"http://host.docker.internal:11434\"),\n",
    "    properties = [\n",
    "        # Property(name='idAmenity',data_type=DataType.TEXT),\n",
    "        Property(name='nameAmenity',data_type=DataType.TEXT),\n",
    "        # Property(name='description',data_type=DataType.TEXT),\n",
    "        # Property(name='price',data_type=DataType.TEXT),\n",
    "        Property(name='category',data_type=DataType.TEXT)\n",
    "    ]\n",
    "\n",
    ")"
   ]
  },
  {
   "cell_type": "code",
   "execution_count": 57,
   "metadata": {},
   "outputs": [
    {
     "data": {
      "text/plain": [
       "{'Amenities_collection': _CollectionConfigSimple(name='Amenities_collection', description='this collection stores amenities information like description, name, price, and category', generative_config=None, properties=[_Property(name='nameAmenity', description=None, data_type=<DataType.TEXT: 'text'>, index_filterable=True, index_range_filters=False, index_searchable=True, nested_properties=None, tokenization=<Tokenization.WORD: 'word'>, vectorizer_config=_PropertyVectorizerConfig(skip=False, vectorize_property_name=True), vectorizer='text2vec-ollama'), _Property(name='description', description=None, data_type=<DataType.TEXT: 'text'>, index_filterable=True, index_range_filters=False, index_searchable=True, nested_properties=None, tokenization=<Tokenization.WORD: 'word'>, vectorizer_config=_PropertyVectorizerConfig(skip=False, vectorize_property_name=True), vectorizer='text2vec-ollama'), _Property(name='category', description=None, data_type=<DataType.TEXT: 'text'>, index_filterable=True, index_range_filters=False, index_searchable=True, nested_properties=None, tokenization=<Tokenization.WORD: 'word'>, vectorizer_config=_PropertyVectorizerConfig(skip=False, vectorize_property_name=True), vectorizer='text2vec-ollama')], references=[], reranker_config=None, vectorizer_config=_VectorizerConfig(vectorizer=<Vectorizers.TEXT2VEC_OLLAMA: 'text2vec-ollama'>, model={'apiEndpoint': 'http://host.docker.internal:11434', 'model': 'llama3.2:latest'}, vectorize_collection_name=True), vectorizer=<Vectorizers.TEXT2VEC_OLLAMA: 'text2vec-ollama'>, vector_config=None)}"
      ]
     },
     "execution_count": 57,
     "metadata": {},
     "output_type": "execute_result"
    }
   ],
   "source": [
    "client.collections.list_all()   \n",
    "\n"
   ]
  },
  {
   "cell_type": "code",
   "execution_count": 68,
   "metadata": {},
   "outputs": [
    {
     "name": "stdout",
     "output_type": "stream",
     "text": [
      "{'nameAmenity': 'alarm clock', 'category': \"['room amenities', 'convenience']\"}\n",
      "{'nameAmenity': 'cleaning studio', 'category': \"['cleaning services', 'room maintenance']\"}\n",
      "{'nameAmenity': 'cleaning suite', 'category': \"['cleaning services', 'room maintenance']\"}\n",
      "{'nameAmenity': 'scooter rental', 'category': \"['transportation', 'leisure activities']\"}\n",
      "{'nameAmenity': 'wifi', 'category': \"['internet services', 'business amenities']\"}\n",
      "{'nameAmenity': 'view', 'category': \"['room amenities', 'scenic views']\"}\n",
      "{'nameAmenity': 'smoking', 'category': \"['room amenities', 'health & safety']\"}\n",
      "{'nameAmenity': 'free coffee', 'category': \"['dining services', 'convenience']\"}\n",
      "{'nameAmenity': 'tv 55', 'category': \"['room amenities', 'entertainment']\"}\n",
      "{'nameAmenity': 'baby cot', 'category': \"['family services', 'room amenities']\"}\n",
      "{'nameAmenity': 'breakfast', 'category': \"['dining services', 'meal options']\"}\n",
      "{'nameAmenity': 'early check-in', 'category': \"['check-in services', 'guest convenience']\"}\n",
      "{'nameAmenity': 'extra bed', 'category': \"['room amenities', 'guest comfort']\"}\n",
      "{'nameAmenity': 'in-room spa treatment', 'category': \"['wellness services', 'luxury amenities']\"}\n",
      "{'nameAmenity': 'late check-out', 'category': \"['check-out services', 'guest convenience']\"}\n",
      "{'nameAmenity': 'luxury car rental', 'category': \"['transportation', 'luxury services']\"}\n",
      "{'nameAmenity': 'private airport transfer', 'category': \"['transportation', 'airport services']\"}\n",
      "{'nameAmenity': 'private chef service', 'category': \"['dining services', 'luxury amenities']\"}\n",
      "{'nameAmenity': 'private yacht tour', 'category': \"['leisure activities', 'luxury services']\"}\n",
      "{'nameAmenity': 'airport shuttle service', 'category': \"['transportation', 'airport services']\"}\n",
      "{'nameAmenity': 'breakfast buffet', 'category': \"['dining services', 'meal options']\"}\n",
      "{'nameAmenity': 'room service', 'category': \"['dining services', 'convenience']\"}\n"
     ]
    }
   ],
   "source": [
    "from uuid import uuid4  \n",
    "\n",
    "collection = client.collections.get('amenities_collection')\n",
    "\n",
    "for amenity in amenities:\n",
    "\n",
    "    properties = {\n",
    "                    # \"idAmenity\": str(amenity['idAmenity']).lower(),\n",
    "                    \"nameAmenity\": amenity['nameAmenity'].lower(),\n",
    "                    # \"description\":amenity['description'].lower() ,\n",
    "                    # \"price\": amenity['price'].lower(),\n",
    "                    \"category\":str(amenity['categories']).lower() \n",
    "                }\n",
    "    id = get_valid_uuid(uuid4())\n",
    "    row = collection.data.insert(uuid = id, properties = properties)\n",
    "    print(properties)\n",
    "    "
   ]
  },
  {
   "cell_type": "code",
   "execution_count": 37,
   "metadata": {},
   "outputs": [
    {
     "name": "stderr",
     "output_type": "stream",
     "text": [
      "d:\\amenities recommendations\\.venv\\lib\\site-packages\\transformers\\models\\auto\\tokenization_auto.py:809: FutureWarning: The `use_auth_token` argument is deprecated and will be removed in v5 of Transformers. Please use `token` instead.\n",
      "  warnings.warn(\n",
      "d:\\amenities recommendations\\.venv\\lib\\site-packages\\transformers\\models\\auto\\auto_factory.py:471: FutureWarning: The `use_auth_token` argument is deprecated and will be removed in v5 of Transformers. Please use `token` instead.\n",
      "  warnings.warn(\n"
     ]
    },
    {
     "name": "stdout",
     "output_type": "stream",
     "text": [
      "[Gramformer] Grammar error correct/highlight model loaded..\n",
      "TO BE IMPLEMENTED!!!\n"
     ]
    }
   ],
   "source": [
    "from gramformer import Gramformer\n",
    "corrector = Gramformer(models=1, use_gpu=True)\n",
    "highlighter = Gramformer(models=2, use_gpu=True)"
   ]
  },
  {
   "cell_type": "code",
   "execution_count": 49,
   "metadata": {},
   "outputs": [
    {
     "name": "stdout",
     "output_type": "stream",
     "text": [
      "{'i am going to store.'}\n"
     ]
    },
    {
     "ename": "TypeError",
     "evalue": "'set' object is not subscriptable",
     "output_type": "error",
     "traceback": [
      "\u001b[1;31m---------------------------------------------------------------------------\u001b[0m",
      "\u001b[1;31mTypeError\u001b[0m                                 Traceback (most recent call last)",
      "Cell \u001b[1;32mIn[49], line 4\u001b[0m\n\u001b[0;32m      2\u001b[0m correct \u001b[38;5;241m=\u001b[39m corrector\u001b[38;5;241m.\u001b[39mcorrect(s)\n\u001b[0;32m      3\u001b[0m \u001b[38;5;28mprint\u001b[39m(\u001b[38;5;28mstr\u001b[39m(correct))\n\u001b[1;32m----> 4\u001b[0m highlight \u001b[38;5;241m=\u001b[39m highlighter\u001b[38;5;241m.\u001b[39mhighlight(\u001b[38;5;28mstr\u001b[39m(s), \u001b[43mcorrect\u001b[49m\u001b[43m[\u001b[49m\u001b[38;5;241;43m0\u001b[39;49m\u001b[43m]\u001b[49m)\n\u001b[0;32m      5\u001b[0m \u001b[38;5;28mprint\u001b[39m(highlight)\n",
      "\u001b[1;31mTypeError\u001b[0m: 'set' object is not subscriptable"
     ]
    }
   ],
   "source": [
    "s = 'i am goiing to store'\n",
    "correct = corrector.correct(s)\n",
    "print(str(correct))\n",
    "highlight = highlighter.highlight(str(s), correct[0])\n",
    "print(highlight)"
   ]
  },
  {
   "cell_type": "code",
   "execution_count": 36,
   "metadata": {},
   "outputs": [
    {
     "name": "stdout",
     "output_type": "stream",
     "text": [
      "internet\n"
     ]
    }
   ],
   "source": [
    "from spellchecker import SpellChecker\n",
    "\n",
    "spell_checker = SpellChecker()\n",
    "correction = spell_checker.correction(\"internet\")\n",
    "print(correction)"
   ]
  },
  {
   "cell_type": "code",
   "execution_count": null,
   "metadata": {},
   "outputs": [],
   "source": []
  },
  {
   "cell_type": "code",
   "execution_count": null,
   "metadata": {},
   "outputs": [],
   "source": []
  },
  {
   "cell_type": "code",
   "execution_count": 71,
   "metadata": {},
   "outputs": [
    {
     "name": "stdout",
     "output_type": "stream",
     "text": [
      "--------------------------------------------------\n",
      "Name: wifi\n",
      "Score: None\n",
      "Name: view\n",
      "Score: None\n",
      "Name: free coffee\n",
      "Score: None\n",
      "--------------------------------------------------\n",
      "Name: wifi\n",
      "Score: None\n",
      "Name: scooter rental\n",
      "Score: None\n",
      "Name: private yacht tour\n",
      "Score: None\n",
      "Name: breakfast buffet\n",
      "Score: None\n",
      "Name: luxury car rental\n",
      "Score: None\n",
      "--------------------------------------------------\n",
      "Name: scooter rental\n",
      "Score: 0.4596822261810303\n",
      "Name: private yacht tour\n",
      "Score: 0.4600679874420166\n",
      "Name: breakfast buffet\n",
      "Score: 0.4620260000228882\n",
      "Name: luxury car rental\n",
      "Score: 0.4633164405822754\n",
      "Name: in-room spa treatment\n",
      "Score: 0.46758830547332764\n"
     ]
    }
   ],
   "source": [
    "from weaviate.classes.query import MetadataQuery\n",
    "\n",
    "\n",
    "\n",
    "collection = client.collections.get('amenities_collection')\n",
    "guest_note = 'I am looking for good wifi connection and coffee, with good view'\n",
    "\n",
    "recommeded_amenities_bm25 = collection.query.bm25(guest_note.lower(), limit=10, query_properties=['nameAmenity'],return_metadata=MetadataQuery(distance=True))\n",
    "recommeded_amenities_hybrid = collection.query.hybrid(guest_note.lower(), limit=5, query_properties=['nameAmenity'],return_metadata=MetadataQuery(distance=True))\n",
    "recommeded_amenities_near_text = collection.query.near_text(guest_note.lower(), limit=5,return_metadata=MetadataQuery(distance=True))\n",
    "\n",
    "\n",
    "recomendations_bm25 =[amenity.properties['nameAmenity'] for amenity in recommeded_amenities_bm25.objects]\n",
    "recomendations_hybrid =[amenity.properties['nameAmenity'] for amenity in recommeded_amenities_hybrid.objects]\n",
    "recomendations_near_text =[amenity.properties['nameAmenity'] for amenity in recommeded_amenities_near_text.objects]\n",
    "\n",
    "\n",
    "\n",
    "\n",
    "print(\"--------------------------------------------------\") \n",
    "for amenity in recommeded_amenities_bm25.objects:\n",
    "    print(\"Name:\", amenity.properties['nameAmenity'])\n",
    "    print(\"Score:\", amenity.metadata.distance)\n",
    "print(\"--------------------------------------------------\")\n",
    "for amenity in recommeded_amenities_hybrid.objects:\n",
    "    print(\"Name:\", amenity.properties['nameAmenity'])\n",
    "    print(\"Score:\", amenity.metadata.distance)\n",
    "print(\"--------------------------------------------------\")\n",
    "for amenity in recommeded_amenities_near_text.objects:\n",
    "    print(\"Name:\", amenity.properties['nameAmenity'])\n",
    "    print(\"Score:\", amenity.metadata.distance)\n",
    "\n",
    "\n",
    "# for amenity in recomendations_bm25:\n",
    "#     print(\"Name:\", amenity)\n",
    "# print(\"--------------------------------------------------\")\n",
    "# for amenity in recomendations_hybrid:\n",
    "#     print(\"Name:\", amenity)\n",
    "# print(\"--------------------------------------------------\") \n",
    "# for amenity in recomendations_near_text:\n",
    "#     print(\"Name:\", amenity)\n",
    "\n",
    "\n",
    "\n",
    " "
   ]
  },
  {
   "cell_type": "code",
   "execution_count": null,
   "metadata": {},
   "outputs": [],
   "source": [
    "collection = client.collections.get('amenities_collection')\n",
    "guest_note = 'wifi'\n",
    "\n",
    "recommendation = collection.generate.near_text(guest_note, limit=5,grouped_task='explain all details about {nameAmenity}')"
   ]
  },
  {
   "cell_type": "code",
   "execution_count": null,
   "metadata": {},
   "outputs": [],
   "source": []
  }
 ],
 "metadata": {
  "kernelspec": {
   "display_name": ".venv",
   "language": "python",
   "name": "python3"
  },
  "language_info": {
   "codemirror_mode": {
    "name": "ipython",
    "version": 3
   },
   "file_extension": ".py",
   "mimetype": "text/x-python",
   "name": "python",
   "nbconvert_exporter": "python",
   "pygments_lexer": "ipython3",
   "version": "3.10.9"
  }
 },
 "nbformat": 4,
 "nbformat_minor": 2
}
